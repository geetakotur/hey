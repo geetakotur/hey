{
  "nbformat": 4,
  "nbformat_minor": 0,
  "metadata": {
    "colab": {
      "name": "pandas.ipynb",
      "provenance": [],
      "toc_visible": true,
      "authorship_tag": "ABX9TyOnf/0OGwnfcpSpeaV0U+L5",
      "include_colab_link": true
    },
    "kernelspec": {
      "name": "python3",
      "display_name": "Python 3"
    },
    "language_info": {
      "name": "python"
    }
  },
  "cells": [
    {
      "cell_type": "markdown",
      "metadata": {
        "id": "view-in-github",
        "colab_type": "text"
      },
      "source": [
        "<a href=\"https://colab.research.google.com/github/geetakotur/hey/blob/main/pandas.ipynb\" target=\"_parent\"><img src=\"https://colab.research.google.com/assets/colab-badge.svg\" alt=\"Open In Colab\"/></a>"
      ]
    },
    {
      "cell_type": "code",
      "execution_count": 3,
      "metadata": {
        "colab": {
          "base_uri": "https://localhost:8080/"
        },
        "id": "1yND-2_pWZAZ",
        "outputId": "ec2f1839-2188-4f6f-dbb7-9ff73d551c50"
      },
      "outputs": [
        {
          "output_type": "stream",
          "name": "stdout",
          "text": [
            "[[94842274652080              0]\n",
            " [             0              0]\n",
            " [             0              0]]\n"
          ]
        }
      ],
      "source": [
        "import numpy as np\n",
        "arrayvalue = np.empty([3,2],dtype=int)\n",
        "print(arrayvalue)"
      ]
    },
    {
      "cell_type": "code",
      "source": [
        "import numpy as np\n",
        "samplearray=np.array([[1,2,3],[4,5,6]])\n",
        "samplearray.shape=(3,2)\n",
        "print(samplearray)"
      ],
      "metadata": {
        "colab": {
          "base_uri": "https://localhost:8080/"
        },
        "id": "oEisIZWxX6hQ",
        "outputId": "376248ba-48bf-4cd2-aef0-9c6de2c43627"
      },
      "execution_count": 5,
      "outputs": [
        {
          "output_type": "stream",
          "name": "stdout",
          "text": [
            "[[1 2]\n",
            " [3 4]\n",
            " [5 6]]\n"
          ]
        }
      ]
    },
    {
      "cell_type": "code",
      "source": [
        "import numpy as np\n",
        "samplearray=np.array([[1,2,3],[4,5,6]])\n",
        "samplearray.shape=(2,3)\n",
        "print(samplearray)"
      ],
      "metadata": {
        "colab": {
          "base_uri": "https://localhost:8080/"
        },
        "id": "XtdDxEPcYgCx",
        "outputId": "db7845a7-ecaa-4782-9595-b6b9c7f60d1b"
      },
      "execution_count": 8,
      "outputs": [
        {
          "output_type": "stream",
          "name": "stdout",
          "text": [
            "[[1 2 3]\n",
            " [4 5 6]]\n"
          ]
        }
      ]
    },
    {
      "cell_type": "code",
      "source": [
        "import numpy as np\n",
        "samplearray=np.array([[1,2,3],[4,5,6]])\n",
        "samplearray.shape=(1,6)\n",
        "print(samplearray)"
      ],
      "metadata": {
        "colab": {
          "base_uri": "https://localhost:8080/"
        },
        "id": "EvndfrKZY8Og",
        "outputId": "fc71053d-a594-47a1-9b21-776fe0b8d69b"
      },
      "execution_count": 9,
      "outputs": [
        {
          "output_type": "stream",
          "name": "stdout",
          "text": [
            "[[1 2 3 4 5 6]]\n"
          ]
        }
      ]
    },
    {
      "cell_type": "code",
      "source": [
        "import numpy as np\n",
        "samplearray=np.array([[8,10.2,-3.5],[-4,5.125,-6.258]])\n",
        "samplearray.shape=(3,2)\n",
        "print(samplearray)\n",
        "samplearray.shape=(2,3)\n",
        "print(samplearray)\n",
        "samplearray.shape=(1,6)\n",
        "print(samplearray)\n",
        "samplearray.shape=(6,1)\n",
        "print(samplearray)"
      ],
      "metadata": {
        "colab": {
          "base_uri": "https://localhost:8080/"
        },
        "id": "EN8AsX9HZbDx",
        "outputId": "1b375697-9e26-460c-e59d-c1633d27a9ed"
      },
      "execution_count": 10,
      "outputs": [
        {
          "output_type": "stream",
          "name": "stdout",
          "text": [
            "[[ 8.    10.2  ]\n",
            " [-3.5   -4.   ]\n",
            " [ 5.125 -6.258]]\n",
            "[[ 8.    10.2   -3.5  ]\n",
            " [-4.     5.125 -6.258]]\n",
            "[[ 8.    10.2   -3.5   -4.     5.125 -6.258]]\n",
            "[[ 8.   ]\n",
            " [10.2  ]\n",
            " [-3.5  ]\n",
            " [-4.   ]\n",
            " [ 5.125]\n",
            " [-6.258]]\n"
          ]
        }
      ]
    },
    {
      "cell_type": "code",
      "source": [
        "import numpy as np\n",
        "samplearray=np.array([2,3,4,4,4,4,5,5,6,7,7,8,9,9,9,9,10,11,12,12])\n",
        "print(samplearray)\n",
        "print(np.min(samplearray))\n",
        "print(np.max(samplearray))\n",
        "print(np.mean(samplearray))\n",
        "print(np.median(samplearray))\n",
        "print(np.std(samplearray))\n"
      ],
      "metadata": {
        "colab": {
          "base_uri": "https://localhost:8080/"
        },
        "id": "-HibHCgQgD_l",
        "outputId": "40f85186-cbd3-4779-c559-78c9b2a13120"
      },
      "execution_count": 13,
      "outputs": [
        {
          "output_type": "stream",
          "name": "stdout",
          "text": [
            "[ 2  3  4  4  4  4  5  5  6  7  7  8  9  9  9  9 10 11 12 12]\n",
            "2\n",
            "12\n",
            "7.0\n",
            "7.0\n",
            "2.9832867780352594\n"
          ]
        }
      ]
    }
  ]
}